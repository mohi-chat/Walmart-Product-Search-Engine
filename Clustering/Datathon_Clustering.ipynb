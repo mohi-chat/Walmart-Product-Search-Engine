{
  "nbformat": 4,
  "nbformat_minor": 0,
  "metadata": {
    "colab": {
      "name": "Datathon_Clustering.ipynb",
      "provenance": [],
      "collapsed_sections": [],
      "machine_shape": "hm"
    },
    "kernelspec": {
      "name": "python3",
      "display_name": "Python 3"
    }
  },
  "cells": [
    {
      "cell_type": "code",
      "metadata": {
        "id": "myDal20SC-n6",
        "outputId": "525b9a0a-0cb3-4759-e606-4ccab23b1021",
        "colab": {
          "base_uri": "https://localhost:8080/",
          "height": 34
        }
      },
      "source": [
        "from google.colab import drive\n",
        "drive.mount(\"/content/drive/\")"
      ],
      "execution_count": null,
      "outputs": [
        {
          "output_type": "stream",
          "text": [
            "Drive already mounted at /content/drive/; to attempt to forcibly remount, call drive.mount(\"/content/drive/\", force_remount=True).\n"
          ],
          "name": "stdout"
        }
      ]
    },
    {
      "cell_type": "code",
      "metadata": {
        "id": "iD7D4DW3-FRt"
      },
      "source": [
        "import gensim\n",
        "import gensim.downloader as api\n",
        "from gensim.models import Word2Vec\n",
        "\n"
      ],
      "execution_count": null,
      "outputs": []
    },
    {
      "cell_type": "code",
      "metadata": {
        "id": "1XDun6ZZXnmX",
        "outputId": "61660106-9115-4a8b-dd07-81ceb616af78",
        "colab": {
          "base_uri": "https://localhost:8080/",
          "height": 71
        }
      },
      "source": [
        "#load the glove word2vec 100 dimension model which is saved on our drive as word2vec.gz\n",
        "model=gensim.models.KeyedVectors.load_word2vec_format(\"/content/drive/My Drive/Datathon/word2vec.gz\")"
      ],
      "execution_count": null,
      "outputs": [
        {
          "output_type": "stream",
          "text": [
            "/usr/local/lib/python3.6/dist-packages/smart_open/smart_open_lib.py:252: UserWarning: This function is deprecated, use smart_open.open instead. See the migration notes for details: https://github.com/RaRe-Technologies/smart_open/blob/master/README.rst#migrating-to-the-new-open-function\n",
            "  'See the migration notes for details: %s' % _MIGRATION_NOTES_URL\n"
          ],
          "name": "stderr"
        }
      ]
    },
    {
      "cell_type": "code",
      "metadata": {
        "id": "lYl-qBD8KYsy"
      },
      "source": [
        "#load the data\n",
        "import pandas as pd\n",
        "d1_path=\"/content/drive/My Drive/Datathon/combined.csv\"\n",
        "data_frame=pd.read_csv(d1_path)"
      ],
      "execution_count": null,
      "outputs": []
    },
    {
      "cell_type": "code",
      "metadata": {
        "id": "whqJW73TKmmk",
        "outputId": "89f74c24-f97a-4525-c40a-7ad04c1e255c",
        "colab": {
          "base_uri": "https://localhost:8080/",
          "height": 289
        }
      },
      "source": [
        "#drop the data points with the same sku_id\n",
        "data_frame=data_frame.drop_duplicates(subset=\"sku_id\",keep=\"first\")\n",
        "data_frame.head()"
      ],
      "execution_count": null,
      "outputs": [
        {
          "output_type": "execute_result",
          "data": {
            "text/html": [
              "<div>\n",
              "<style scoped>\n",
              "    .dataframe tbody tr th:only-of-type {\n",
              "        vertical-align: middle;\n",
              "    }\n",
              "\n",
              "    .dataframe tbody tr th {\n",
              "        vertical-align: top;\n",
              "    }\n",
              "\n",
              "    .dataframe thead th {\n",
              "        text-align: right;\n",
              "    }\n",
              "</style>\n",
              "<table border=\"1\" class=\"dataframe\">\n",
              "  <thead>\n",
              "    <tr style=\"text-align: right;\">\n",
              "      <th></th>\n",
              "      <th>sku_id</th>\n",
              "      <th>title</th>\n",
              "      <th>category</th>\n",
              "      <th>specifications</th>\n",
              "      <th>price</th>\n",
              "      <th>rating</th>\n",
              "      <th>no_of_reviews</th>\n",
              "      <th>outlink_sku_ids</th>\n",
              "      <th>outlinks</th>\n",
              "      <th>url</th>\n",
              "    </tr>\n",
              "  </thead>\n",
              "  <tbody>\n",
              "    <tr>\n",
              "      <th>0</th>\n",
              "      <td>206750547</td>\n",
              "      <td>Lenovo 81JW0001US Chromebook S330, 14\" HD Disp...</td>\n",
              "      <td>Electronics</td>\n",
              "      <td>{'Processor Brand': 'MediaTek', 'Processor Typ...</td>\n",
              "      <td>$239.00</td>\n",
              "      <td>4.1</td>\n",
              "      <td>476</td>\n",
              "      <td>['965386169', '726338035', '620162156', '55315...</td>\n",
              "      <td>['https://www.walmart.com/ip/Acer-Chromebook-1...</td>\n",
              "      <td>https://www.walmart.com/ip/Lenovo-81JW0001US-C...</td>\n",
              "    </tr>\n",
              "    <tr>\n",
              "      <th>1</th>\n",
              "      <td>620162156</td>\n",
              "      <td>EVOO 11.6\" Chromebook, Quad Core, 16GB Storage...</td>\n",
              "      <td>Electronics</td>\n",
              "      <td>{'Processor Brand': 'Rockchip', 'Processor Typ...</td>\n",
              "      <td>$119.00</td>\n",
              "      <td>3.9</td>\n",
              "      <td>63</td>\n",
              "      <td>['227737612', '44363066', '658934269', '767004...</td>\n",
              "      <td>['https://www.walmart.com/ip/Refurbished-DELL-...</td>\n",
              "      <td>https://www.walmart.com/ip/EVOO-11-6-Chromeboo...</td>\n",
              "    </tr>\n",
              "    <tr>\n",
              "      <th>2</th>\n",
              "      <td>658934269</td>\n",
              "      <td>(Refurbished) Dell Chromebook 11 (CB1C13) 11.6...</td>\n",
              "      <td>Electronics</td>\n",
              "      <td>{'Processor Brand': 'Intel', 'Processor Type':...</td>\n",
              "      <td>$144.95</td>\n",
              "      <td>3.8</td>\n",
              "      <td>26</td>\n",
              "      <td>['227737612', '564694293', '44363066', '620162...</td>\n",
              "      <td>['https://www.walmart.com/ip/Refurbished-DELL-...</td>\n",
              "      <td>https://www.walmart.com/ip/Refurbished-Dell-Ch...</td>\n",
              "    </tr>\n",
              "    <tr>\n",
              "      <th>3</th>\n",
              "      <td>44363066</td>\n",
              "      <td>Dell Chromebook - 11.6\" - Celeron N2840 - 4 GB...</td>\n",
              "      <td>Electronics</td>\n",
              "      <td>{'Processor Brand': 'Intel', 'Processor Type':...</td>\n",
              "      <td>$138.22</td>\n",
              "      <td>3.4</td>\n",
              "      <td>183</td>\n",
              "      <td>['620162156', '227737612', '564694293', '72633...</td>\n",
              "      <td>['https://www.walmart.com/ip/EVOO-11-6-Chromeb...</td>\n",
              "      <td>https://www.walmart.com/ip/Dell-Chromebook-11-...</td>\n",
              "    </tr>\n",
              "    <tr>\n",
              "      <th>4</th>\n",
              "      <td>387968358</td>\n",
              "      <td>RCA Galileo Pro 11.5\" 32GB 2-in-1 Tablet with ...</td>\n",
              "      <td>Electronics</td>\n",
              "      <td>{'Brand': 'RCA', 'Manufacturer Part Number': '...</td>\n",
              "      <td>$97.99</td>\n",
              "      <td>4.0</td>\n",
              "      <td>4131</td>\n",
              "      <td>['122743261', '53990885', '943912312', '556390...</td>\n",
              "      <td>['https://www.walmart.com/ip/3-Pack-Supershiel...</td>\n",
              "      <td>https://www.walmart.com/ip/RCA-Galileo-Pro-11-...</td>\n",
              "    </tr>\n",
              "  </tbody>\n",
              "</table>\n",
              "</div>"
            ],
            "text/plain": [
              "      sku_id  ...                                                url\n",
              "0  206750547  ...  https://www.walmart.com/ip/Lenovo-81JW0001US-C...\n",
              "1  620162156  ...  https://www.walmart.com/ip/EVOO-11-6-Chromeboo...\n",
              "2  658934269  ...  https://www.walmart.com/ip/Refurbished-Dell-Ch...\n",
              "3   44363066  ...  https://www.walmart.com/ip/Dell-Chromebook-11-...\n",
              "4  387968358  ...  https://www.walmart.com/ip/RCA-Galileo-Pro-11-...\n",
              "\n",
              "[5 rows x 10 columns]"
            ]
          },
          "metadata": {
            "tags": []
          },
          "execution_count": 5
        }
      ]
    },
    {
      "cell_type": "code",
      "metadata": {
        "id": "MfrTthBDKn94"
      },
      "source": [
        "#method to clean the data\n",
        "def clean_df(data_frame):\n",
        "  col=[]\n",
        "  for index, row in data_frame.iterrows():\n",
        "    lower_c=row[\"title\"]+\" \"+row[\"specifications\"]+\" \"+row[\"category\"]\n",
        "    lower_c=lower_c.replace(\"'\",\"\")\n",
        "    lower_c=lower_c.lower()\n",
        "    tokenizer = nltk.RegexpTokenizer(r\"\\w+\")\n",
        "    lower_c = tokenizer.tokenize(lower_c)\n",
        "    lower_c=list(set(lower_c))\n",
        "    col.append(lower_c)\n",
        "  \n",
        "  data_frame[\"combined_data\"]=col\n",
        "  return data_frame"
      ],
      "execution_count": null,
      "outputs": []
    },
    {
      "cell_type": "code",
      "metadata": {
        "id": "pLV25Di9ORn9",
        "outputId": "6e1a2c9f-a437-4cca-f7e9-2df71303e443",
        "colab": {
          "base_uri": "https://localhost:8080/",
          "height": 425
        }
      },
      "source": [
        "#cleaning the data\n",
        "import string\n",
        "import nltk\n",
        "data_frame=clean_df(data_frame)\n",
        "data_frame.head()"
      ],
      "execution_count": null,
      "outputs": [
        {
          "output_type": "execute_result",
          "data": {
            "text/html": [
              "<div>\n",
              "<style scoped>\n",
              "    .dataframe tbody tr th:only-of-type {\n",
              "        vertical-align: middle;\n",
              "    }\n",
              "\n",
              "    .dataframe tbody tr th {\n",
              "        vertical-align: top;\n",
              "    }\n",
              "\n",
              "    .dataframe thead th {\n",
              "        text-align: right;\n",
              "    }\n",
              "</style>\n",
              "<table border=\"1\" class=\"dataframe\">\n",
              "  <thead>\n",
              "    <tr style=\"text-align: right;\">\n",
              "      <th></th>\n",
              "      <th>sku_id</th>\n",
              "      <th>title</th>\n",
              "      <th>category</th>\n",
              "      <th>specifications</th>\n",
              "      <th>price</th>\n",
              "      <th>rating</th>\n",
              "      <th>no_of_reviews</th>\n",
              "      <th>outlink_sku_ids</th>\n",
              "      <th>outlinks</th>\n",
              "      <th>url</th>\n",
              "      <th>combined_data</th>\n",
              "    </tr>\n",
              "  </thead>\n",
              "  <tbody>\n",
              "    <tr>\n",
              "      <th>0</th>\n",
              "      <td>206750547</td>\n",
              "      <td>Lenovo 81JW0001US Chromebook S330, 14\" HD Disp...</td>\n",
              "      <td>Electronics</td>\n",
              "      <td>{'Processor Brand': 'MediaTek', 'Processor Typ...</td>\n",
              "      <td>$239.00</td>\n",
              "      <td>4.1</td>\n",
              "      <td>476</td>\n",
              "      <td>['965386169', '726338035', '620162156', '55315...</td>\n",
              "      <td>['https://www.walmart.com/ip/Acer-Chromebook-1...</td>\n",
              "      <td>https://www.walmart.com/ip/Lenovo-81JW0001US-C...</td>\n",
              "      <td>[processor, 0, inches, ram, maximum, 81jw0001u...</td>\n",
              "    </tr>\n",
              "    <tr>\n",
              "      <th>1</th>\n",
              "      <td>620162156</td>\n",
              "      <td>EVOO 11.6\" Chromebook, Quad Core, 16GB Storage...</td>\n",
              "      <td>Electronics</td>\n",
              "      <td>{'Processor Brand': 'Rockchip', 'Processor Typ...</td>\n",
              "      <td>$119.00</td>\n",
              "      <td>3.9</td>\n",
              "      <td>63</td>\n",
              "      <td>['227737612', '44363066', '658934269', '767004...</td>\n",
              "      <td>['https://www.walmart.com/ip/Refurbished-DELL-...</td>\n",
              "      <td>https://www.walmart.com/ip/EVOO-11-6-Chromeboo...</td>\n",
              "      <td>[processor, 0, 11, inches, ram, bk, system, 50...</td>\n",
              "    </tr>\n",
              "    <tr>\n",
              "      <th>2</th>\n",
              "      <td>658934269</td>\n",
              "      <td>(Refurbished) Dell Chromebook 11 (CB1C13) 11.6...</td>\n",
              "      <td>Electronics</td>\n",
              "      <td>{'Processor Brand': 'Intel', 'Processor Type':...</td>\n",
              "      <td>$144.95</td>\n",
              "      <td>3.8</td>\n",
              "      <td>26</td>\n",
              "      <td>['227737612', '564694293', '44363066', '620162...</td>\n",
              "      <td>['https://www.walmart.com/ip/Refurbished-DELL-...</td>\n",
              "      <td>https://www.walmart.com/ip/Refurbished-Dell-Ch...</td>\n",
              "      <td>[cb1c13, processor, 11, ram, system, part, cel...</td>\n",
              "    </tr>\n",
              "    <tr>\n",
              "      <th>3</th>\n",
              "      <td>44363066</td>\n",
              "      <td>Dell Chromebook - 11.6\" - Celeron N2840 - 4 GB...</td>\n",
              "      <td>Electronics</td>\n",
              "      <td>{'Processor Brand': 'Intel', 'Processor Type':...</td>\n",
              "      <td>$138.22</td>\n",
              "      <td>3.4</td>\n",
              "      <td>183</td>\n",
              "      <td>['620162156', '227737612', '564694293', '72633...</td>\n",
              "      <td>['https://www.walmart.com/ip/EVOO-11-6-Chromeb...</td>\n",
              "      <td>https://www.walmart.com/ip/Dell-Chromebook-11-...</td>\n",
              "      <td>[dual, processor, adapter, 11, inches, ram, en...</td>\n",
              "    </tr>\n",
              "    <tr>\n",
              "      <th>4</th>\n",
              "      <td>387968358</td>\n",
              "      <td>RCA Galileo Pro 11.5\" 32GB 2-in-1 Tablet with ...</td>\n",
              "      <td>Electronics</td>\n",
              "      <td>{'Brand': 'RCA', 'Manufacturer Part Number': '...</td>\n",
              "      <td>$97.99</td>\n",
              "      <td>4.0</td>\n",
              "      <td>4131</td>\n",
              "      <td>['122743261', '53990885', '943912312', '556390...</td>\n",
              "      <td>['https://www.walmart.com/ip/3-Pack-Supershiel...</td>\n",
              "      <td>https://www.walmart.com/ip/RCA-Galileo-Pro-11-...</td>\n",
              "      <td>[android, charcoal, marshmallow, 0, 11, system...</td>\n",
              "    </tr>\n",
              "  </tbody>\n",
              "</table>\n",
              "</div>"
            ],
            "text/plain": [
              "      sku_id  ...                                      combined_data\n",
              "0  206750547  ...  [processor, 0, inches, ram, maximum, 81jw0001u...\n",
              "1  620162156  ...  [processor, 0, 11, inches, ram, bk, system, 50...\n",
              "2  658934269  ...  [cb1c13, processor, 11, ram, system, part, cel...\n",
              "3   44363066  ...  [dual, processor, adapter, 11, inches, ram, en...\n",
              "4  387968358  ...  [android, charcoal, marshmallow, 0, 11, system...\n",
              "\n",
              "[5 rows x 11 columns]"
            ]
          },
          "metadata": {
            "tags": []
          },
          "execution_count": 7
        }
      ]
    },
    {
      "cell_type": "code",
      "metadata": {
        "id": "Iq35fNR603Jt"
      },
      "source": [
        "import numpy as np"
      ],
      "execution_count": null,
      "outputs": []
    },
    {
      "cell_type": "code",
      "metadata": {
        "id": "buno6cP9y2sH"
      },
      "source": [
        "#method to obtain word embeddings\n",
        "def obtain_word_vectors(data_frame,model1):\n",
        "  vectors1=[]\n",
        "  for index,row in data_frame.iterrows():\n",
        "    data=row[\"combined_data\"]\n",
        "    l=0\n",
        "    v=np.zeros(100)\n",
        "    for i in data:\n",
        "      if(i in model.vocab):\n",
        "        temp=model.get_vector(i)\n",
        "        v=v+temp\n",
        "        l=l+1\n",
        "    v=v/l\n",
        "    vectors1.append(v)\n",
        "  data_frame[\"vectors\"]=vectors1\n",
        "  return data_frame"
      ],
      "execution_count": null,
      "outputs": []
    },
    {
      "cell_type": "code",
      "metadata": {
        "id": "dAYNY1jm4dR4",
        "outputId": "c3625475-3b95-4443-e911-7fc3748fb6a6",
        "colab": {
          "base_uri": "https://localhost:8080/",
          "height": 476
        }
      },
      "source": [
        "data_frame=obtain_word_vectors(data_frame,model)\n",
        "data_frame.head()"
      ],
      "execution_count": null,
      "outputs": [
        {
          "output_type": "execute_result",
          "data": {
            "text/html": [
              "<div>\n",
              "<style scoped>\n",
              "    .dataframe tbody tr th:only-of-type {\n",
              "        vertical-align: middle;\n",
              "    }\n",
              "\n",
              "    .dataframe tbody tr th {\n",
              "        vertical-align: top;\n",
              "    }\n",
              "\n",
              "    .dataframe thead th {\n",
              "        text-align: right;\n",
              "    }\n",
              "</style>\n",
              "<table border=\"1\" class=\"dataframe\">\n",
              "  <thead>\n",
              "    <tr style=\"text-align: right;\">\n",
              "      <th></th>\n",
              "      <th>sku_id</th>\n",
              "      <th>title</th>\n",
              "      <th>category</th>\n",
              "      <th>specifications</th>\n",
              "      <th>price</th>\n",
              "      <th>rating</th>\n",
              "      <th>no_of_reviews</th>\n",
              "      <th>outlink_sku_ids</th>\n",
              "      <th>outlinks</th>\n",
              "      <th>url</th>\n",
              "      <th>combined_data</th>\n",
              "      <th>vectors</th>\n",
              "    </tr>\n",
              "  </thead>\n",
              "  <tbody>\n",
              "    <tr>\n",
              "      <th>0</th>\n",
              "      <td>206750547</td>\n",
              "      <td>Lenovo 81JW0001US Chromebook S330, 14\" HD Disp...</td>\n",
              "      <td>Electronics</td>\n",
              "      <td>{'Processor Brand': 'MediaTek', 'Processor Typ...</td>\n",
              "      <td>$239.00</td>\n",
              "      <td>4.1</td>\n",
              "      <td>476</td>\n",
              "      <td>['965386169', '726338035', '620162156', '55315...</td>\n",
              "      <td>['https://www.walmart.com/ip/Acer-Chromebook-1...</td>\n",
              "      <td>https://www.walmart.com/ip/Lenovo-81JW0001US-C...</td>\n",
              "      <td>[processor, 0, inches, ram, maximum, 81jw0001u...</td>\n",
              "      <td>[-0.24545783465345428, 0.34555510775989867, 0....</td>\n",
              "    </tr>\n",
              "    <tr>\n",
              "      <th>1</th>\n",
              "      <td>620162156</td>\n",
              "      <td>EVOO 11.6\" Chromebook, Quad Core, 16GB Storage...</td>\n",
              "      <td>Electronics</td>\n",
              "      <td>{'Processor Brand': 'Rockchip', 'Processor Typ...</td>\n",
              "      <td>$119.00</td>\n",
              "      <td>3.9</td>\n",
              "      <td>63</td>\n",
              "      <td>['227737612', '44363066', '658934269', '767004...</td>\n",
              "      <td>['https://www.walmart.com/ip/Refurbished-DELL-...</td>\n",
              "      <td>https://www.walmart.com/ip/EVOO-11-6-Chromeboo...</td>\n",
              "      <td>[processor, 0, 11, inches, ram, bk, system, 50...</td>\n",
              "      <td>[-0.2936774724305181, 0.3544210659624156, 0.18...</td>\n",
              "    </tr>\n",
              "    <tr>\n",
              "      <th>2</th>\n",
              "      <td>658934269</td>\n",
              "      <td>(Refurbished) Dell Chromebook 11 (CB1C13) 11.6...</td>\n",
              "      <td>Electronics</td>\n",
              "      <td>{'Processor Brand': 'Intel', 'Processor Type':...</td>\n",
              "      <td>$144.95</td>\n",
              "      <td>3.8</td>\n",
              "      <td>26</td>\n",
              "      <td>['227737612', '564694293', '44363066', '620162...</td>\n",
              "      <td>['https://www.walmart.com/ip/Refurbished-DELL-...</td>\n",
              "      <td>https://www.walmart.com/ip/Refurbished-Dell-Ch...</td>\n",
              "      <td>[cb1c13, processor, 11, ram, system, part, cel...</td>\n",
              "      <td>[-0.24954652341760017, 0.26320829534564505, 0....</td>\n",
              "    </tr>\n",
              "    <tr>\n",
              "      <th>3</th>\n",
              "      <td>44363066</td>\n",
              "      <td>Dell Chromebook - 11.6\" - Celeron N2840 - 4 GB...</td>\n",
              "      <td>Electronics</td>\n",
              "      <td>{'Processor Brand': 'Intel', 'Processor Type':...</td>\n",
              "      <td>$138.22</td>\n",
              "      <td>3.4</td>\n",
              "      <td>183</td>\n",
              "      <td>['620162156', '227737612', '564694293', '72633...</td>\n",
              "      <td>['https://www.walmart.com/ip/EVOO-11-6-Chromeb...</td>\n",
              "      <td>https://www.walmart.com/ip/Dell-Chromebook-11-...</td>\n",
              "      <td>[dual, processor, adapter, 11, inches, ram, en...</td>\n",
              "      <td>[-0.2310956045985222, 0.3532866202012608, 0.13...</td>\n",
              "    </tr>\n",
              "    <tr>\n",
              "      <th>4</th>\n",
              "      <td>387968358</td>\n",
              "      <td>RCA Galileo Pro 11.5\" 32GB 2-in-1 Tablet with ...</td>\n",
              "      <td>Electronics</td>\n",
              "      <td>{'Brand': 'RCA', 'Manufacturer Part Number': '...</td>\n",
              "      <td>$97.99</td>\n",
              "      <td>4.0</td>\n",
              "      <td>4131</td>\n",
              "      <td>['122743261', '53990885', '943912312', '556390...</td>\n",
              "      <td>['https://www.walmart.com/ip/3-Pack-Supershiel...</td>\n",
              "      <td>https://www.walmart.com/ip/RCA-Galileo-Pro-11-...</td>\n",
              "      <td>[android, charcoal, marshmallow, 0, 11, system...</td>\n",
              "      <td>[-0.12689303189259152, 0.2987967937028614, 0.1...</td>\n",
              "    </tr>\n",
              "  </tbody>\n",
              "</table>\n",
              "</div>"
            ],
            "text/plain": [
              "      sku_id  ...                                            vectors\n",
              "0  206750547  ...  [-0.24545783465345428, 0.34555510775989867, 0....\n",
              "1  620162156  ...  [-0.2936774724305181, 0.3544210659624156, 0.18...\n",
              "2  658934269  ...  [-0.24954652341760017, 0.26320829534564505, 0....\n",
              "3   44363066  ...  [-0.2310956045985222, 0.3532866202012608, 0.13...\n",
              "4  387968358  ...  [-0.12689303189259152, 0.2987967937028614, 0.1...\n",
              "\n",
              "[5 rows x 12 columns]"
            ]
          },
          "metadata": {
            "tags": []
          },
          "execution_count": 10
        }
      ]
    },
    {
      "cell_type": "code",
      "metadata": {
        "id": "AyZ-xn2hjoDW",
        "outputId": "b4a2aae8-8b32-400d-fcef-3ee464f88d46",
        "colab": {
          "base_uri": "https://localhost:8080/",
          "height": 34
        }
      },
      "source": [
        "print(len(data_frame))"
      ],
      "execution_count": null,
      "outputs": [
        {
          "output_type": "stream",
          "text": [
            "7359\n"
          ],
          "name": "stdout"
        }
      ]
    },
    {
      "cell_type": "code",
      "metadata": {
        "id": "ejDcieGu4uvY"
      },
      "source": [
        "from sklearn.cluster import AgglomerativeClustering\n",
        "from sklearn.cluster import MeanShift"
      ],
      "execution_count": null,
      "outputs": []
    },
    {
      "cell_type": "code",
      "metadata": {
        "id": "9J16vEzlpYoS",
        "outputId": "d18d0b12-230f-4bc0-f0d0-1f88fd6c4629",
        "colab": {
          "base_uri": "https://localhost:8080/",
          "height": 298
        }
      },
      "source": [
        "import scipy.cluster.hierarchy as sch\n",
        "import matplotlib.pyplot as plt\n",
        "\n",
        "#Lets create a dendrogram variable linkage is actually the algorithm #itself of hierarchical clustering and then in linkage we have to #specify on which data we apply and engage. This is X dataset\n",
        "dendrogram = sch.dendrogram(sch.linkage(list(data_frame[\"vectors\"].values), method  = \"complete\"))\n",
        "plt.title('Dendrogram')\n",
        "plt.xlabel('vecs')\n",
        "plt.ylabel('Euclidean distances')\n",
        "plt.show()\n"
      ],
      "execution_count": null,
      "outputs": [
        {
          "output_type": "display_data",
          "data": {
            "image/png": "[encoded data removed]",
            "text/plain": [
              "<Figure size 432x288 with 1 Axes>"
            ]
          },
          "metadata": {
            "tags": [],
            "needs_background": "light"
          }
        }
      ]
    },
    {
      "cell_type": "code",
      "metadata": {
        "id": "aaDRIokbEHeM"
      },
      "source": [
        "#methods to carryout clustering\n",
        "def aglomerative_Clustering(data_frame1,metric,ward,n_clusters,distance):\n",
        "  cluster=AgglomerativeClustering(affinity=metric,linkage=ward,distance_threshold=distance,n_clusters=n_clusters)\n",
        "  labels=cluster.fit_predict(list(data_frame1[\"vectors\"]))\n",
        "  return labels\n",
        "\n",
        "def meanshift_Clustering(data_frame1):\n",
        "  cluster=MeanShift(bandwidth=0.6)\n",
        "  labels=cluster.fit_predict(list(data_frame1[\"vectors\"]))\n",
        "  return labels"
      ],
      "execution_count": null,
      "outputs": []
    },
    {
      "cell_type": "code",
      "metadata": {
        "id": "jAlWs08DbjPR"
      },
      "source": [
        "#carrying out aglomerative hierarchical clustering\n",
        "labels=aglomerative_Clustering(data_frame,\"manhattan\",\"complete\",None,20)"
      ],
      "execution_count": null,
      "outputs": []
    },
    {
      "cell_type": "code",
      "metadata": {
        "id": "zYa5ug5tFkyp"
      },
      "source": [
        "#adding the labels columns to the data\n",
        "data_frame[\"labels\"]=labels"
      ],
      "execution_count": null,
      "outputs": []
    },
    {
      "cell_type": "code",
      "metadata": {
        "id": "oFeDk5n85LVP"
      },
      "source": [
        "#save the data frame with labels as a pickle file\n",
        "data_frame.to_pickle(\"/content/drive/My Drive/Datathon/combined_pickle.pickle\")"
      ],
      "execution_count": null,
      "outputs": []
    },
    {
      "cell_type": "code",
      "metadata": {
        "id": "Q6sG7Ukv7ZvC"
      },
      "source": [
        "#load the data frame with labels as a pickle file\n",
        "data_frame1=pd.read_pickle(\"/content/drive/My Drive/Datathon/combined_pickle.pickle\")"
      ],
      "execution_count": null,
      "outputs": []
    },
    {
      "cell_type": "code",
      "metadata": {
        "id": "f978j7QWMAOn"
      },
      "source": [
        "from numpy import dot\n",
        "from numpy.linalg import norm\n",
        "#combined method to obatin top predictions on a query string\n",
        "def clustering_method(query_str,processed_dataframe_path,model):\n",
        "\n",
        "#method to calculate the cosine similarity\n",
        "  def cos_similarity(a,b):\n",
        "    cos_sim = dot(a, b)/(norm(a)*norm(b))\n",
        "    return cos_sim\n",
        "\n",
        "#obtain average word embeddings per cluster\n",
        "  def obtain_class_dict(data_frame1):\n",
        "    class_dict={}\n",
        "    for i in range(len(set(data_frame1[\"labels\"]))):\n",
        "      embeds=data_frame1[data_frame1[\"labels\"]==i][\"vectors\"].values\n",
        "      class_dict[i]=np.mean(embeds,axis=0)\n",
        "\n",
        "    return class_dict\n",
        "\n",
        "#method to clean the query string\n",
        "  def clean_query(query_str):\n",
        "    q=query_str.lower()\n",
        "    tokenizer = nltk.RegexpTokenizer(r\"\\w+\")\n",
        "    q= tokenizer.tokenize(q)\n",
        "    q=list(set(q))\n",
        "    return q\n",
        "\n",
        "#method to obtain query word embeddings\n",
        "  def obtain_query_embeddings(q,model):\n",
        "    v=np.zeros(100)\n",
        "    l=0\n",
        "    for i in q:\n",
        "      if(i in model.vocab):\n",
        "        temp=model.get_vector(i)\n",
        "        v=v+temp\n",
        "        l=l+1\n",
        "    v=v/l\n",
        "    return v\n",
        "\n",
        "#method to obtain the similarities of the query within the cluster to which it belongs to and sort by the sosine similarity\n",
        "  def sort_by_similarity(c_dict,v,data_frame1):\n",
        "    similarities=[cos_similarity(x,v) for x in c_dict.values()]\n",
        "    pred=np.argmax(similarities)\n",
        "    d_pred=data_frame1[data_frame1['labels']==pred]\n",
        "    d_sim=[]\n",
        "    #iterate over the dataframe of the predicted label\n",
        "    for index,row in d_pred.iterrows():\n",
        "      d_sim.append(cos_similarity(row[\"vectors\"],v))\n",
        "    d_pred[\"similarity\"]=d_sim\n",
        "    d_pred=d_pred.sort_values(by=\"similarity\",ascending=False)\n",
        "    return d_pred\n",
        "\n",
        "\n",
        "  def query_label(c_dict,query_str,data_frame1,model):\n",
        "    q=clean_query(query_str)\n",
        "    v=obtain_query_embeddings(q,model)\n",
        "    d_pred=sort_by_similarity(c_dict,v,data_frame1)\n",
        "    return d_pred\n",
        "\n",
        "    \n",
        "  data_frame1=pd.read_pickle(processed_dataframe_path) #load dataframe\n",
        "  c_dict=obtain_class_dict(data_frame1)#obatin the average word embeddings\n",
        "  preds=query_label(c_dict,query_str,data_frame,model)#final sorted predictions according to the query\n",
        "\n",
        "\n",
        "  return preds"
      ],
      "execution_count": null,
      "outputs": []
    },
    {
      "cell_type": "code",
      "metadata": {
        "id": "vTmOiMhI5vTc",
        "outputId": "a081d99a-c111-4979-f6b0-78be442ea33a",
        "colab": {
          "base_uri": "https://localhost:8080/",
          "height": 1000
        }
      },
      "source": [
        "#testing on a query string\n",
        "p1=clustering_method(\"loreal paris\",\"/content/drive/My Drive/Datathon/combined_pickle.pickle\",model)\n",
        "p1.head(5)"
      ],
      "execution_count": 25,
      "outputs": [
        {
          "output_type": "stream",
          "text": [
            "/usr/local/lib/python3.6/dist-packages/ipykernel_launcher.py:49: SettingWithCopyWarning: \n",
            "A value is trying to be set on a copy of a slice from a DataFrame.\n",
            "Try using .loc[row_indexer,col_indexer] = value instead\n",
            "\n",
            "See the caveats in the documentation: https://pandas.pydata.org/pandas-docs/stable/user_guide/indexing.html#returning-a-view-versus-a-copy\n"
          ],
          "name": "stderr"
        },
        {
          "output_type": "execute_result",
          "data": {
            "text/html": [
              "<div>\n",
              "<style scoped>\n",
              "    .dataframe tbody tr th:only-of-type {\n",
              "        vertical-align: middle;\n",
              "    }\n",
              "\n",
              "    .dataframe tbody tr th {\n",
              "        vertical-align: top;\n",
              "    }\n",
              "\n",
              "    .dataframe thead th {\n",
              "        text-align: right;\n",
              "    }\n",
              "</style>\n",
              "<table border=\"1\" class=\"dataframe\">\n",
              "  <thead>\n",
              "    <tr style=\"text-align: right;\">\n",
              "      <th></th>\n",
              "      <th>sku_id</th>\n",
              "      <th>title</th>\n",
              "      <th>category</th>\n",
              "      <th>specifications</th>\n",
              "      <th>price</th>\n",
              "      <th>rating</th>\n",
              "      <th>no_of_reviews</th>\n",
              "      <th>outlink_sku_ids</th>\n",
              "      <th>outlinks</th>\n",
              "      <th>url</th>\n",
              "      <th>combined_data</th>\n",
              "      <th>vectors</th>\n",
              "      <th>labels</th>\n",
              "      <th>similarity</th>\n",
              "    </tr>\n",
              "  </thead>\n",
              "  <tbody>\n",
              "    <tr>\n",
              "      <th>1733</th>\n",
              "      <td>48206609</td>\n",
              "      <td>L'Oreal Paris Colour Riche Monos Eyeshadow, Ma...</td>\n",
              "      <td>Beauty/Makeup/Going Out Makeup</td>\n",
              "      <td>{}</td>\n",
              "      <td>$4.97</td>\n",
              "      <td>4.4</td>\n",
              "      <td>225</td>\n",
              "      <td>['362252930', '253789770', '55175820', '117788...</td>\n",
              "      <td>['https://www.walmart.com/ip/L-Oreal-Paris-Mak...</td>\n",
              "      <td>https://www.walmart.com/ip/L-Oreal-Paris-Colou...</td>\n",
              "      <td>[riche, mademoiselle, oz, loreal, 0, beauty, g...</td>\n",
              "      <td>[0.06453540126482646, 0.1704473299284776, 0.08...</td>\n",
              "      <td>5</td>\n",
              "      <td>0.474816</td>\n",
              "    </tr>\n",
              "    <tr>\n",
              "      <th>1623</th>\n",
              "      <td>51222493</td>\n",
              "      <td>L'Oreal Paris Voluminous Primer Mascara, White...</td>\n",
              "      <td>Beauty/Travel Size Beauty/Travel Size Makeup/T...</td>\n",
              "      <td>{}</td>\n",
              "      <td>$6.74</td>\n",
              "      <td>4.5</td>\n",
              "      <td>1809</td>\n",
              "      <td>['291049593', '17236834', '148044403', '274127...</td>\n",
              "      <td>['https://www.walmart.com/ip/Masqueology-Gold-...</td>\n",
              "      <td>https://www.walmart.com/ip/L-Oreal-Paris-Volum...</td>\n",
              "      <td>[size, eye, oz, loreal, primer, fl, 0, white, ...</td>\n",
              "      <td>[-0.11550072757527233, 0.11455197536076109, 0....</td>\n",
              "      <td>5</td>\n",
              "      <td>0.457026</td>\n",
              "    </tr>\n",
              "    <tr>\n",
              "      <th>1839</th>\n",
              "      <td>205230927</td>\n",
              "      <td>L'Oreal Paris Elvive Dream Lengths No Haircut ...</td>\n",
              "      <td>Beauty/Spring Break Beauty/Haircare</td>\n",
              "      <td>{}</td>\n",
              "      <td>$5.97</td>\n",
              "      <td>4.6</td>\n",
              "      <td>214</td>\n",
              "      <td>['376265312', '245555672', '687560698', '14602...</td>\n",
              "      <td>['https://www.walmart.com/ip/L-Oreal-Paris-Elv...</td>\n",
              "      <td>https://www.walmart.com/ip/L-Oreal-Paris-Elviv...</td>\n",
              "      <td>[haircut, no, 6, elvive, 8, oz, loreal, hairca...</td>\n",
              "      <td>[0.08153916833301385, 0.12317314027394685, 0.0...</td>\n",
              "      <td>5</td>\n",
              "      <td>0.451249</td>\n",
              "    </tr>\n",
              "    <tr>\n",
              "      <th>1840</th>\n",
              "      <td>117788455</td>\n",
              "      <td>L'Oreal Paris Colour Riche Monos Eyeshadow, Ma...</td>\n",
              "      <td>Beauty/Beauty by Top Brands/L'Oreal/L'Oreal Ma...</td>\n",
              "      <td>{}</td>\n",
              "      <td>$4.97</td>\n",
              "      <td>4.4</td>\n",
              "      <td>225</td>\n",
              "      <td>['362252930', '253789770', '50941567', '165934...</td>\n",
              "      <td>['https://www.walmart.com/ip/L-Oreal-Paris-Mak...</td>\n",
              "      <td>https://www.walmart.com/ip/L-Oreal-Paris-Colou...</td>\n",
              "      <td>[riche, matte, oz, brands, loreal, chill, 0, b...</td>\n",
              "      <td>[-0.02512456418480724, 0.13235205854289234, 0....</td>\n",
              "      <td>5</td>\n",
              "      <td>0.444248</td>\n",
              "    </tr>\n",
              "    <tr>\n",
              "      <th>4279</th>\n",
              "      <td>803425535</td>\n",
              "      <td>L'Oreal Paris True Match Lumi Shimmerista High...</td>\n",
              "      <td>Beauty/Makeup/Face Makeup/Highlighter Makeup/H...</td>\n",
              "      <td>{}</td>\n",
              "      <td>$8.89</td>\n",
              "      <td>4.6</td>\n",
              "      <td>155</td>\n",
              "      <td>['152767993', '129899762', '850818927', '16929...</td>\n",
              "      <td>['https://www.walmart.com/ip/L-Oreal-Paris-Tru...</td>\n",
              "      <td>https://www.walmart.com/ip/L-Oreal-Paris-True-...</td>\n",
              "      <td>[moonlight, face, true, oz, loreal, highlighti...</td>\n",
              "      <td>[0.013143140325943629, 0.18376199901103973, 0....</td>\n",
              "      <td>5</td>\n",
              "      <td>0.429334</td>\n",
              "    </tr>\n",
              "    <tr>\n",
              "      <th>4910</th>\n",
              "      <td>10314825</td>\n",
              "      <td>L'Oreal Paris Telescopic Original Washable Int...</td>\n",
              "      <td>Beauty/Travel Size Beauty/Travel Size Makeup/T...</td>\n",
              "      <td>{}</td>\n",
              "      <td>$8.44</td>\n",
              "      <td>4.1</td>\n",
              "      <td>936</td>\n",
              "      <td>['876988918', '10314521', '892281428', '103143...</td>\n",
              "      <td>['https://www.walmart.com/ip/L-Oreal-Paris-Air...</td>\n",
              "      <td>https://www.walmart.com/ip/L-Oreal-Paris-Teles...</td>\n",
              "      <td>[lengthening, washable, size, oz, eye, loreal,...</td>\n",
              "      <td>[-0.14158594196972749, 0.16165768287868965, 0....</td>\n",
              "      <td>5</td>\n",
              "      <td>0.428302</td>\n",
              "    </tr>\n",
              "    <tr>\n",
              "      <th>4004</th>\n",
              "      <td>974282675</td>\n",
              "      <td>L'Oreal Paris True Match Lumi Glotion Natural ...</td>\n",
              "      <td>Beauty/Makeup/Face Makeup/Highlighter Makeup/L...</td>\n",
              "      <td>{}</td>\n",
              "      <td>$11.44</td>\n",
              "      <td>4.5</td>\n",
              "      <td>497</td>\n",
              "      <td>['394982475', '158036401', '152767993', '36225...</td>\n",
              "      <td>['https://www.walmart.com/ip/L-Oreal-Paris-Tru...</td>\n",
              "      <td>https://www.walmart.com/ip/L-Oreal-Paris-True-...</td>\n",
              "      <td>[face, true, oz, loreal, glow, highlighter, fl...</td>\n",
              "      <td>[0.1153101818088223, 0.2256141721325762, 0.252...</td>\n",
              "      <td>5</td>\n",
              "      <td>0.423893</td>\n",
              "    </tr>\n",
              "    <tr>\n",
              "      <th>4208</th>\n",
              "      <td>546286195</td>\n",
              "      <td>L'Oreal Paris True Match Lumi Glow Nude highli...</td>\n",
              "      <td>Beauty/Makeup/Face Makeup/Face Primer</td>\n",
              "      <td>{}</td>\n",
              "      <td>$11.44</td>\n",
              "      <td>4.0</td>\n",
              "      <td>190</td>\n",
              "      <td>[]</td>\n",
              "      <td>[]</td>\n",
              "      <td>https://www.walmart.com/ip/L-Oreal-Paris-True-...</td>\n",
              "      <td>[face, true, nude, loreal, glow, highlighter, ...</td>\n",
              "      <td>[0.050577940652146935, 0.19628924899734557, 0....</td>\n",
              "      <td>5</td>\n",
              "      <td>0.421909</td>\n",
              "    </tr>\n",
              "    <tr>\n",
              "      <th>4471</th>\n",
              "      <td>303343432</td>\n",
              "      <td>L'Oreal Paris Lash Paradise Mascara, Voluminou...</td>\n",
              "      <td>Beauty/Makeup/Eye Makeup/Mascara/L'Oreal Mascara</td>\n",
              "      <td>{}</td>\n",
              "      <td>$9.97</td>\n",
              "      <td>4.2</td>\n",
              "      <td>1978</td>\n",
              "      <td>['133805243', '236339328', '618241721', '10312...</td>\n",
              "      <td>['https://www.walmart.com/ip/L-Oreal-Paris-Vol...</td>\n",
              "      <td>https://www.walmart.com/ip/L-Oreal-Paris-Lash-...</td>\n",
              "      <td>[paradise, blackest, oz, eye, loreal, fl, lash...</td>\n",
              "      <td>[-0.04546953045452635, 0.09716686283548673, 0....</td>\n",
              "      <td>5</td>\n",
              "      <td>0.411460</td>\n",
              "    </tr>\n",
              "    <tr>\n",
              "      <th>4763</th>\n",
              "      <td>44910770</td>\n",
              "      <td>L'Oreal Paris Age Perfect Eye Renewal, 0.5 fl....</td>\n",
              "      <td>Beauty/Here for Every Beauty/Skincare/Eye Crea...</td>\n",
              "      <td>{}</td>\n",
              "      <td>$15.32</td>\n",
              "      <td>4.2</td>\n",
              "      <td>1137</td>\n",
              "      <td>['159500009', '38102600', '888169', '38102599'...</td>\n",
              "      <td>['https://www.walmart.com/ip/L-Oreal-Paris-Age...</td>\n",
              "      <td>https://www.walmart.com/ip/L-Oreal-Paris-Age-P...</td>\n",
              "      <td>[every, renewal, eye, oz, perfect, loreal, 5, ...</td>\n",
              "      <td>[0.015748295275604025, 0.3286912890479845, 0.1...</td>\n",
              "      <td>5</td>\n",
              "      <td>0.407199</td>\n",
              "    </tr>\n",
              "  </tbody>\n",
              "</table>\n",
              "</div>"
            ],
            "text/plain": [
              "         sku_id  ... similarity\n",
              "1733   48206609  ...   0.474816\n",
              "1623   51222493  ...   0.457026\n",
              "1839  205230927  ...   0.451249\n",
              "1840  117788455  ...   0.444248\n",
              "4279  803425535  ...   0.429334\n",
              "4910   10314825  ...   0.428302\n",
              "4004  974282675  ...   0.423893\n",
              "4208  546286195  ...   0.421909\n",
              "4471  303343432  ...   0.411460\n",
              "4763   44910770  ...   0.407199\n",
              "\n",
              "[10 rows x 14 columns]"
            ]
          },
          "metadata": {
            "tags": []
          },
          "execution_count": 25
        }
      ]
    },
    {
      "cell_type": "code",
      "metadata": {
        "id": "vFGy0XKS6Hy1"
      },
      "source": [
        ""
      ],
      "execution_count": null,
      "outputs": []
    }
  ]
}
